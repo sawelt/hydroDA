{
  "nbformat": 4,
  "nbformat_minor": 0,
  "metadata": {
    "colab": {
      "name": "hydroDAExperiments.ipynb",
      "provenance": []
    },
    "kernelspec": {
      "name": "python3",
      "display_name": "Python 3"
    },
    "language_info": {
      "name": "python"
    },
    "accelerator": "GPU"
  },
  "cells": [
    {
      "cell_type": "markdown",
      "source": [
        "# **Load datasets**"
      ],
      "metadata": {
        "id": "M8bBZVaca5PK"
      }
    },
    {
      "cell_type": "markdown",
      "source": [
        "Path to dataset folder"
      ],
      "metadata": {
        "id": "odT42LIkbdxy"
      }
    },
    {
      "cell_type": "code",
      "source": [
        "PATH = \"drive/MyDrive/Experiments/datasets/\"\n",
        "import numpy as np"
      ],
      "metadata": {
        "id": "wXJ5IVEpblV7"
      },
      "execution_count": 6,
      "outputs": []
    },
    {
      "cell_type": "markdown",
      "source": [
        "Dataset for Centralised Learning"
      ],
      "metadata": {
        "id": "ShXdItcIbDHg"
      }
    },
    {
      "cell_type": "code",
      "execution_count": 2,
      "metadata": {
        "id": "yEVAp9Zga3sO"
      },
      "outputs": [],
      "source": [
        "D1 = np.load(PATH+\"D1.npy\")"
      ]
    },
    {
      "cell_type": "markdown",
      "source": [
        "Datasets R1-R23 for Decentralised Learning"
      ],
      "metadata": {
        "id": "-mkxXR2nbIA-"
      }
    },
    {
      "cell_type": "code",
      "source": [
        "r1 = np.load(PATH+\"R1.npy\")\n",
        "r2 = np.load(PATH+\"R2.npy\")\n",
        "r3 = np.load(PATH+\"R3.npy\")\n",
        "r4 = np.load(PATH+\"R4.npy\")\n",
        "r5 = np.load(PATH+\"R5.npy\")\n",
        "r6 = np.load(PATH+\"R6.npy\")\n",
        "r7 = np.load(PATH+\"R7.npy\")\n",
        "r8 = np.load(PATH+\"R8.npy\")\n",
        "r9 = np.load(PATH+\"R9.npy\")\n",
        "r10 = np.load(PATH+\"R10.npy\")\n",
        "r11 = np.load(PATH+\"R11.npy\")\n",
        "r12 = np.load(PATH+\"R12.npy\")\n",
        "r13 = np.load(PATH+\"R13.npy\")\n",
        "r14 = np.load(PATH+\"R14.npy\")\n",
        "r15 = np.load(PATH+\"R15.npy\")\n",
        "r16 = np.load(PATH+\"R16.npy\")\n",
        "r17 = np.load(PATH+\"R17.npy\")\n",
        "r18 = np.load(PATH+\"R18.npy\")\n",
        "r19 = np.load(PATH+\"R19.npy\")\n",
        "r20 = np.load(PATH+\"R20.npy\")\n",
        "r21 = np.load(PATH+\"R21.npy\")\n",
        "r22 = np.load(PATH+\"R22.npy\")\n",
        "r23 = np.load(PATH+\"R23.npy\")\n",
        "I = [r1, r2, r3, r4, r5, r6, r7, r8, r9, r10, r11, r12, r13, r14, r15, r16, r17, r18, r19, r20, r21, r22, r23]\n"
      ],
      "metadata": {
        "id": "ORKpci8XbMfI"
      },
      "execution_count": 7,
      "outputs": []
    },
    {
      "cell_type": "markdown",
      "source": [
        "Combine into 12 Institutions"
      ],
      "metadata": {
        "id": "w1c_NXpxbM4p"
      }
    },
    {
      "cell_type": "code",
      "source": [
        "J = [np.concatenate((r1, r9, r13, r14)), r6, np.concatenate((r5, r21)), r23, r20, np.concatenate((r3, r10)),\n",
        "      np.concatenate((r12, r19)), r17, np.concatenate((r2, r7)), r18, np.concatenate((r4, r11, r22)),\n",
        "      np.concatenate((r8, r15, r16))]"
      ],
      "metadata": {
        "id": "F4guE0wvbTNO"
      },
      "execution_count": 6,
      "outputs": []
    },
    {
      "cell_type": "markdown",
      "source": [
        "Combine into 4 Institutions"
      ],
      "metadata": {
        "id": "LVwRfbTUbTfQ"
      }
    },
    {
      "cell_type": "code",
      "source": [
        "K = [np.concatenate((r1, r3, r9, r10, r12)), np.concatenate((r2, r5, r6, r7, r13, r14, r20, r21, r23)),\n",
        "      np.concatenate((r8, r15, r16, r17, r22)), np.concatenate((r4, r11, r18, r19))]"
      ],
      "metadata": {
        "id": "EXaiHGt3brdV"
      },
      "execution_count": 8,
      "outputs": []
    },
    {
      "cell_type": "markdown",
      "source": [
        "# **Data Visualisation**"
      ],
      "metadata": {
        "id": "81T9p97CkYeY"
      }
    },
    {
      "cell_type": "markdown",
      "source": [
        "Functions to map precipitation values to RGB-colors and save images."
      ],
      "metadata": {
        "id": "O3Lj9ngtkdHB"
      }
    },
    {
      "cell_type": "code",
      "source": [
        "def classify(value, x11 = [0.1, 0.2, 0.3, 0.5, 1, 2.5, 5, 10, 20, 30, 50, 100, 400]):\n",
        "    if value >= x11[11]:\n",
        "        return (255, 0, 128 - int((x11[11] - value) * (127 / (x11[12] - x11[11]))))\n",
        "    elif value >= x11[10]:\n",
        "        return (128 - int((x11[10] - value) * (127 / (x11[11] - x11[10]))), 0,\n",
        "               0 - int((x11[10] - value) * (128 / (x11[11] - x11[10]))))\n",
        "    elif value >= x11[9]:\n",
        "        return (255 + int((x11[9] - value) * (127 / (x11[10] - x11[9]))), 0, 0)\n",
        "    elif value >= x11[8]:\n",
        "        return  (255, 128 + int((x11[8] - value) * (128 / (x11[9] - x11[8]))), 0)\n",
        "    elif value >= x11[7]:\n",
        "        return  (255, 255 + int((x11[7] - value) * (127 / (x11[8] - x11[7]))), 0)\n",
        "    elif value >= x11[6]:\n",
        "        return  (128 - int((x11[6] - value) * (128 / (x11[7] - x11[6]))), 255, 0)\n",
        "    elif value >= x11[5]:\n",
        "        return  (0 - int((x11[5] - value) * (128 / (x11[6] - x11[5]))), 255, 0)\n",
        "    elif value >= x11[4]:\n",
        "        return  (0, 128 - int((x11[4] - value) * (127 / (x11[5] - x11[4]))),\n",
        "               128 + int((x11[4] - value) * (128 / (x11[5] - x11[4]))))\n",
        "    elif value >= x11[3]:\n",
        "        return  (\n",
        "            0, - int((x11[3] - value) * (128 / (x11[4] - x11[3]))),\n",
        "            255 + int((x11[3] - value) * (127 / (x11[4] - x11[3]))))\n",
        "    elif value >= x11[2]:\n",
        "        return  (128 + int((x11[2] - value) * (128 / (x11[3] - x11[2]))), 0,\n",
        "               128 - int((x11[2] - value) * (127 / (x11[3] - x11[2]))))\n",
        "    elif value >= x11[1]:\n",
        "        return  (\n",
        "            128, 128 + int((x11[1] - value) * (128 / (x11[2] - x11[1]))),\n",
        "            255 + int((x11[1] - value) * (127 / (x11[2] - x11[1]))))\n",
        "    elif value >= x11[0]:\n",
        "        return  (\n",
        "            0 - int((x11[0] - value) * (128 / (x11[1] - x11[0]))),\n",
        "            255 + int((x11[0] - value) * (127 / (x11[1] - x11[0]))),\n",
        "            255)\n",
        "    else: \n",
        "        return (255, 255, 255)\n",
        "\n",
        "\n",
        "def saveImg(matrix, path,x1):\n",
        "    width = len(matrix) * x1\n",
        "    height = len(matrix) * x1\n",
        "    image = Image.new(\"RGB\", (height, width), (255, 255, 255))\n",
        "    draw = ImageDraw.Draw(image)\n",
        "    for x in range(len(matrix)):\n",
        "        for y in range(len(matrix)):\n",
        "            for i in range(x1):\n",
        "                for j in range(x1):\n",
        "                    draw.point((y * x1 + i, (len(matrix) - 1 - x) * x1 + j), classify(matrix[x][y][0]))\n",
        "    image.save(path + \".png\")"
      ],
      "metadata": {
        "id": "7u493x0MkUon"
      },
      "execution_count": 9,
      "outputs": []
    },
    {
      "cell_type": "markdown",
      "source": [
        "# **Model Training**"
      ],
      "metadata": {
        "id": "E0PCW7yEbVuw"
      }
    },
    {
      "cell_type": "markdown",
      "source": [
        "Essential Functions"
      ],
      "metadata": {
        "id": "7uUfP7LEhNW1"
      }
    },
    {
      "cell_type": "code",
      "source": [
        "import os\n",
        "from os import path\n",
        "import numpy as np\n",
        "import tensorflow as tf\n",
        "from tensorflow.keras.optimizers import Adam\n",
        "from tensorflow.keras.layers import Input, Dense, Reshape, Flatten, Conv2D, UpSampling2D, BatchNormalization, MaxPooling2D, Activation\n",
        "from tensorflow.keras.models import Sequential, Model\n",
        "import cv2\n",
        "from google.colab.patches import cv2_imshow\n",
        "from tqdm import tqdm\n",
        "from PIL import Image, ImageDraw, ImageFont\n",
        "lr = 0.0002\n",
        "batch_size = 128\n",
        "optimizer = Adam(lr=lr)\n",
        "\n",
        "\n",
        "def generator():\n",
        "    model = Sequential()\n",
        "    model.add(Dense(1024, input_shape=(100,)))\n",
        "    model.add(BatchNormalization(momentum=0.8))\n",
        "    model.add(Activation('tanh'))\n",
        "\n",
        "    model.add(Reshape((2, 2, 256), input_shape=(1024,)))\n",
        "\n",
        "    model.add(UpSampling2D(size=(2, 2)))\n",
        "    model.add(Conv2D(512, (5, 5), padding=\"same\"))\n",
        "    model.add(BatchNormalization(momentum=0.8))\n",
        "    model.add(Activation('tanh'))\n",
        "    model.add(UpSampling2D(size=(2, 2)))\n",
        "    model.add(Conv2D(256, (5, 5), padding=\"same\"))\n",
        "    model.add(Activation('tanh'))\n",
        "\n",
        "    model.add(UpSampling2D(size=(2, 2)))\n",
        "    model.add(Conv2D(128, (5, 5), padding=\"same\"))\n",
        "    model.add(Activation('tanh'))\n",
        "\n",
        "    model.add(UpSampling2D(size=(2, 2)))\n",
        "    model.add(Conv2D(1, (5, 5), padding='same'))\n",
        "    model.add(Activation('tanh'))\n",
        "\n",
        "    noise = Input((100,))\n",
        "    generated = model(noise)\n",
        "\n",
        "    return Model(noise, generated)\n",
        "\n",
        "\n",
        "def discriminator():\n",
        "    model = Sequential()\n",
        "\n",
        "    model.add(Conv2D(64, (5, 5), padding='same', input_shape=(32, 32, 1)))\n",
        "    model.add(Activation('tanh'))\n",
        "    model.add(MaxPooling2D(pool_size=(2, 2)))\n",
        "\n",
        "    model.add(Conv2D(128, (5, 5), padding='same'))\n",
        "    model.add(Activation('tanh'))\n",
        "    model.add(MaxPooling2D(pool_size=(2, 2)))\n",
        "\n",
        "    model.add(Conv2D(256, (5, 5), padding='same'))\n",
        "    model.add(Activation('tanh'))\n",
        "    model.add(MaxPooling2D(pool_size=(2, 2)))\n",
        "\n",
        "    model.add(Conv2D(512, (5, 5), padding='same'))\n",
        "    model.add(Activation('tanh'))\n",
        "    model.add(MaxPooling2D(pool_size=(2, 2)))\n",
        "\n",
        "    model.add(Flatten())\n",
        "    model.add(Dense(1))\n",
        "    model.add(Activation('sigmoid'))\n",
        "\n",
        "    data = Input((32, 32, 1))\n",
        "    validity = model(data)\n",
        "    return Model(data, validity)\n",
        "\n",
        "def get_avg_weights(array_weights):\n",
        "    new_weights = list()\n",
        "    for weights_list_tuple in zip(*array_weights):\n",
        "        new_weights.append(\n",
        "            np.array([np.array(w).mean(axis=0) for w in zip(*weights_list_tuple)])\n",
        "        )\n",
        "    return new_weights\n",
        "\n",
        "\n",
        "def fl(cycles, epochs_per_cycle, save_interval, dataset, min_acc, save_path):\n",
        "    dataset=normalise_dataset(dataset)\n",
        "    diss = []\n",
        "    gens = []\n",
        "    coms = []\n",
        "    for i in range(len(dataset)):\n",
        "        combined, dis, gen = build_models()\n",
        "        diss += [dis, ]\n",
        "        gens += [gen, ]\n",
        "        coms += [combined, ]\n",
        "    c_epoch = 0\n",
        "    for cycle in range(cycles):\n",
        "        print(\"Cycle \"+str(cycle+1))\n",
        "        for institution in tqdm(range(len(dataset))):\n",
        "            for epoch in range(epochs_per_cycle):\n",
        "                c_epoch = epoch_procedure(c_epoch, coms[institution], dataset[institution], diss[institution],\n",
        "                                          gens[institution], min_acc, save_interval,save_path)\n",
        "        diss_weight, gens_weight = fl_average(diss, gens)\n",
        "        for p in range(len(dataset)):\n",
        "            diss[p].set_weights(diss_weight)\n",
        "            gens[p].set_weights(gens_weight)\n",
        "\n",
        "\n",
        "def build_models():\n",
        "    dis = discriminator()\n",
        "    dis.compile(loss='binary_crossentropy', optimizer=optimizer, metrics=['accuracy'])\n",
        "    gen = generator()\n",
        "    dis.trainable = False\n",
        "    z = Input((100,))\n",
        "    img = gen(z)\n",
        "    valid = dis(img)\n",
        "    combined = Model(z, valid)\n",
        "    combined.compile(loss='binary_crossentropy', optimizer=optimizer)\n",
        "    dis.trainable = True\n",
        "    return combined, dis, gen\n",
        "\n",
        "\n",
        "def fl_average(diss, gens):\n",
        "    diss_weights = [model.get_weights() for model in diss]\n",
        "    gens_weights = [model.get_weights() for model in gens]\n",
        "    diss_weight = get_avg_weights(diss_weights)\n",
        "    gens_weight = get_avg_weights(gens_weights)\n",
        "    return diss_weight, gens_weight\n",
        "\n",
        "\n",
        "def ciil(cycles, epochs_per_cycle, save_interval, dataset, min_acc, save_path):\n",
        "    combined, dis, gen = build_models()\n",
        "    normalise_dataset(dataset)\n",
        "    c_epoch = 0\n",
        "    for cycle in range(cycles):\n",
        "        print(\"Cycle \"+str(cycle+1))\n",
        "        for institution in tqdm(range(len(dataset))):\n",
        "            for epoch in range(epochs_per_cycle):\n",
        "                c_epoch = epoch_procedure(c_epoch, combined, dataset[institution], dis, gen, min_acc, save_interval, save_path)\n",
        "\n",
        "\n",
        "def normalise_dataset(dataset):\n",
        "    for i in range(len(dataset)):\n",
        "        dataset[i] = (dataset[i].astype(np.float32) - 2047.5) / 2047.5\n",
        "    return dataset\n",
        "\n",
        "\n",
        "def epoch_procedure(c_epoch, combined, dataset, dis, gen, min_acc, save_interval, folder):\n",
        "    c_epoch += 1\n",
        "    d_loss = [0, 0]\n",
        "    while d_loss[1] < min_acc:\n",
        "        rand = np.random.randint(0, dataset.shape[0], batch_size // 2)\n",
        "        trainset = dataset[rand]\n",
        "        noise = np.random.normal(0, 1, (batch_size // 2, 100))\n",
        "        generated = gen.predict(noise)\n",
        "        d_loss_real = dis.train_on_batch(trainset, np.ones((batch_size // 2, 1)))\n",
        "        d_loss_fake = dis.train_on_batch(generated, np.zeros((batch_size // 2, 1)))\n",
        "        d_loss = 0.5 * np.add(d_loss_real, d_loss_fake)\n",
        "    noise = np.random.normal(0, 1, (batch_size, 100))\n",
        "    valid_y = np.array([1] * batch_size)\n",
        "    g_loss = combined.train_on_batch(noise, valid_y)\n",
        "    if c_epoch % save_interval == 0:\n",
        "        save(c_epoch, folder, gen)\n",
        "    return c_epoch\n",
        "\n",
        "\n",
        "def generate(model, n):\n",
        "    return (0.5 * model.predict(np.random.normal(0, 1, (n, 100))) + 0.5) * 4095\n",
        "\n",
        "def cl(epochs, save_interval, dataset, min_acc, save_path):\n",
        "    combined, dis, gen = build_models()\n",
        "    dataset=normalise_dataset([dataset, ])[0]\n",
        "    for epoch in tqdm(range(epochs)):\n",
        "        epoch_procedure(epoch, combined, dataset, dis, gen, min_acc, save_interval, save_path)\n",
        "\n",
        "\n",
        "def save(c_epoch, save_path, gen):\n",
        "    print(\"Saving...\")\n",
        "    gen.save(save_path+str(c_epoch)+\".h5\")\n",
        "    saveImg(generate(gen,1)[0],save_path+\"latestimage\",4)\n",
        "    img = cv2.imread(save_path+\"latestimage.png\", cv2.IMREAD_UNCHANGED)\n",
        "    print(1)\n",
        "    cv2_imshow(img)\n",
        "    #print(\"Epoch: \"+str(c_epoch)+\", Score: \"+str(score1)+\"; Normalised: \"+str(normalise_to_r1NNC(score1)))"
      ],
      "metadata": {
        "colab": {
          "base_uri": "https://localhost:8080/"
        },
        "id": "1Dxe5-w4hsLs",
        "outputId": "94eb7f04-04f1-414a-c107-38f8f5b790c6"
      },
      "execution_count": 10,
      "outputs": [
        {
          "output_type": "stream",
          "name": "stderr",
          "text": [
            "/usr/local/lib/python3.7/dist-packages/keras/optimizer_v2/adam.py:105: UserWarning: The `lr` argument is deprecated, use `learning_rate` instead.\n",
            "  super(Adam, self).__init__(name, **kwargs)\n"
          ]
        }
      ]
    },
    {
      "cell_type": "markdown",
      "source": [
        "# **Experiments**"
      ],
      "metadata": {
        "id": "NeNC9ZhDljuW"
      }
    },
    {
      "cell_type": "markdown",
      "source": [
        "Path to which generator models are saved."
      ],
      "metadata": {
        "id": "5VT-sJxwlklF"
      }
    },
    {
      "cell_type": "code",
      "source": [
        "SAVE_PATH=\"\""
      ],
      "metadata": {
        "id": "Ytifn1s_leiY"
      },
      "execution_count": 4,
      "outputs": []
    },
    {
      "cell_type": "markdown",
      "source": [
        "Experiments: Centralised Learning, varying Discriminator accuracy constraint [0.8 to 0.95]"
      ],
      "metadata": {
        "id": "Eu4XsyVPpomO"
      }
    },
    {
      "cell_type": "code",
      "source": [
        "folder = \"cl_accuracy_0.8/\"\n",
        "with tf.device('/device:GPU:0'):\n",
        "    cl(epochs=20000, save_interval=50, dataset=D1, min_acc=.8, save_path=SAVE_PATH+folder)"
      ],
      "metadata": {
        "colab": {
          "base_uri": "https://localhost:8080/",
          "height": 1000
        },
        "id": "XIVn9-B0lzQA",
        "outputId": "c76cf3a7-245a-4c15-8f54-f790a788e74c"
      },
      "execution_count": 10,
      "outputs": [
        {
          "output_type": "stream",
          "name": "stderr",
          "text": [
            "  0%|          | 49/20000 [00:11<48:57,  6.79it/s]"
          ]
        },
        {
          "output_type": "stream",
          "name": "stdout",
          "text": [
            "Saving...\n",
            "WARNING:tensorflow:Compiled the loaded model, but the compiled metrics have yet to be built. `model.compile_metrics` will be empty until you train or evaluate the model.\n",
            "1\n"
          ]
        },
        {
          "output_type": "display_data",
          "data": {
            "image/png": "[encoded data removed]",
            "text/plain": [
              "<PIL.Image.Image image mode=RGB size=128x128 at 0x7FA48EB5F190>"
            ]
          },
          "metadata": {}
        },
        {
          "output_type": "stream",
          "name": "stderr",
          "text": [
            "  0%|          | 99/20000 [00:20<49:57,  6.64it/s]"
          ]
        },
        {
          "output_type": "stream",
          "name": "stdout",
          "text": [
            "Saving...\n",
            "WARNING:tensorflow:Compiled the loaded model, but the compiled metrics have yet to be built. `model.compile_metrics` will be empty until you train or evaluate the model.\n",
            "1\n"
          ]
        },
        {
          "output_type": "display_data",
          "data": {
            "image/png": "[encoded data removed]",
            "text/plain": [
              "<PIL.Image.Image image mode=RGB size=128x128 at 0x7FA48EC89F90>"
            ]
          },
          "metadata": {}
        },
        {
          "output_type": "stream",
          "name": "stderr",
          "text": [
            "  1%|          | 149/20000 [00:27<48:29,  6.82it/s]"
          ]
        },
        {
          "output_type": "stream",
          "name": "stdout",
          "text": [
            "Saving...\n",
            "WARNING:tensorflow:Compiled the loaded model, but the compiled metrics have yet to be built. `model.compile_metrics` will be empty until you train or evaluate the model.\n",
            "1\n"
          ]
        },
        {
          "output_type": "display_data",
          "data": {
            "image/png": "[encoded data removed]",
            "text/plain": [
              "<PIL.Image.Image image mode=RGB size=128x128 at 0x7FA48EBDE7D0>"
            ]
          },
          "metadata": {}
        },
        {
          "output_type": "stream",
          "name": "stderr",
          "text": [
            "  1%|          | 199/20000 [00:35<50:45,  6.50it/s]"
          ]
        },
        {
          "output_type": "stream",
          "name": "stdout",
          "text": [
            "Saving...\n",
            "WARNING:tensorflow:Compiled the loaded model, but the compiled metrics have yet to be built. `model.compile_metrics` will be empty until you train or evaluate the model.\n",
            "1\n"
          ]
        },
        {
          "output_type": "display_data",
          "data": {
            "image/png": "[encoded data removed]",
            "text/plain": [
              "<PIL.Image.Image image mode=RGB size=128x128 at 0x7FA48E944250>"
            ]
          },
          "metadata": {}
        },
        {
          "output_type": "stream",
          "name": "stderr",
          "text": [
            "  1%|          | 249/20000 [01:07<8:50:39,  1.61s/it]"
          ]
        },
        {
          "output_type": "stream",
          "name": "stdout",
          "text": [
            "Saving...\n",
            "WARNING:tensorflow:Compiled the loaded model, but the compiled metrics have yet to be built. `model.compile_metrics` will be empty until you train or evaluate the model.\n",
            "1\n"
          ]
        },
        {
          "output_type": "display_data",
          "data": {
            "image/png": "[encoded data removed]",
            "text/plain": [
              "<PIL.Image.Image image mode=RGB size=128x128 at 0x7FA498174610>"
            ]
          },
          "metadata": {}
        },
        {
          "output_type": "stream",
          "name": "stderr",
          "text": [
            "  1%|▏         | 299/20000 [01:36<2:26:03,  2.25it/s]"
          ]
        },
        {
          "output_type": "stream",
          "name": "stdout",
          "text": [
            "Saving...\n",
            "WARNING:tensorflow:Compiled the loaded model, but the compiled metrics have yet to be built. `model.compile_metrics` will be empty until you train or evaluate the model.\n",
            "1\n"
          ]
        },
        {
          "output_type": "display_data",
          "data": {
            "image/png": "[encoded data removed]",
            "text/plain": [
              "<PIL.Image.Image image mode=RGB size=128x128 at 0x7FA48E8DC790>"
            ]
          },
          "metadata": {}
        },
        {
          "output_type": "stream",
          "name": "stderr",
          "text": [
            "  2%|▏         | 349/20000 [01:55<2:35:11,  2.11it/s]"
          ]
        },
        {
          "output_type": "stream",
          "name": "stdout",
          "text": [
            "Saving...\n",
            "WARNING:tensorflow:Compiled the loaded model, but the compiled metrics have yet to be built. `model.compile_metrics` will be empty until you train or evaluate the model.\n",
            "1\n"
          ]
        },
        {
          "output_type": "display_data",
          "data": {
            "image/png": "[encoded data removed]",
            "text/plain": [
              "<PIL.Image.Image image mode=RGB size=128x128 at 0x7FA4224296D0>"
            ]
          },
          "metadata": {}
        },
        {
          "output_type": "stream",
          "name": "stderr",
          "text": [
            "  2%|▏         | 399/20000 [02:18<3:16:11,  1.67it/s]"
          ]
        },
        {
          "output_type": "stream",
          "name": "stdout",
          "text": [
            "Saving...\n",
            "WARNING:tensorflow:Compiled the loaded model, but the compiled metrics have yet to be built. `model.compile_metrics` will be empty until you train or evaluate the model.\n",
            "1\n"
          ]
        },
        {
          "output_type": "display_data",
          "data": {
            "image/png": "[encoded data removed]",
            "text/plain": [
              "<PIL.Image.Image image mode=RGB size=128x128 at 0x7FA5202BF590>"
            ]
          },
          "metadata": {}
        },
        {
          "output_type": "stream",
          "name": "stderr",
          "text": [
            "  2%|▏         | 409/20000 [02:21<1:52:58,  2.89it/s]\n"
          ]
        },
        {
          "output_type": "error",
          "ename": "KeyboardInterrupt",
          "evalue": "ignored",
          "traceback": [
            "\u001b[0;31m---------------------------------------------------------------------------\u001b[0m",
            "\u001b[0;31mKeyboardInterrupt\u001b[0m                         Traceback (most recent call last)",
            "\u001b[0;32m<ipython-input-10-5ee6296d4b40>\u001b[0m in \u001b[0;36m<module>\u001b[0;34m()\u001b[0m\n\u001b[1;32m      1\u001b[0m \u001b[0mfolder\u001b[0m \u001b[0;34m=\u001b[0m \u001b[0;34m\"cl_accuracy_0.8/\"\u001b[0m\u001b[0;34m\u001b[0m\u001b[0;34m\u001b[0m\u001b[0m\n\u001b[1;32m      2\u001b[0m \u001b[0;32mwith\u001b[0m \u001b[0mtf\u001b[0m\u001b[0;34m.\u001b[0m\u001b[0mdevice\u001b[0m\u001b[0;34m(\u001b[0m\u001b[0;34m'/device:GPU:0'\u001b[0m\u001b[0;34m)\u001b[0m\u001b[0;34m:\u001b[0m\u001b[0;34m\u001b[0m\u001b[0;34m\u001b[0m\u001b[0m\n\u001b[0;32m----> 3\u001b[0;31m     \u001b[0mcl\u001b[0m\u001b[0;34m(\u001b[0m\u001b[0mepochs\u001b[0m\u001b[0;34m=\u001b[0m\u001b[0;36m20000\u001b[0m\u001b[0;34m,\u001b[0m \u001b[0msave_interval\u001b[0m\u001b[0;34m=\u001b[0m\u001b[0;36m50\u001b[0m\u001b[0;34m,\u001b[0m \u001b[0mdataset\u001b[0m\u001b[0;34m=\u001b[0m\u001b[0mD1\u001b[0m\u001b[0;34m,\u001b[0m \u001b[0mmin_acc\u001b[0m\u001b[0;34m=\u001b[0m\u001b[0;36m.8\u001b[0m\u001b[0;34m,\u001b[0m \u001b[0msave_path\u001b[0m\u001b[0;34m=\u001b[0m\u001b[0mSAVE_PATH\u001b[0m\u001b[0;34m+\u001b[0m\u001b[0mfolder\u001b[0m\u001b[0;34m)\u001b[0m\u001b[0;34m\u001b[0m\u001b[0;34m\u001b[0m\u001b[0m\n\u001b[0m",
            "\u001b[0;32m<ipython-input-7-fc881e15d9e1>\u001b[0m in \u001b[0;36mcl\u001b[0;34m(epochs, save_interval, dataset, min_acc, save_path)\u001b[0m\n\u001b[1;32m    170\u001b[0m     \u001b[0mdataset\u001b[0m\u001b[0;34m=\u001b[0m\u001b[0mnormalise_dataset\u001b[0m\u001b[0;34m(\u001b[0m\u001b[0;34m[\u001b[0m\u001b[0mdataset\u001b[0m\u001b[0;34m,\u001b[0m \u001b[0;34m]\u001b[0m\u001b[0;34m)\u001b[0m\u001b[0;34m[\u001b[0m\u001b[0;36m0\u001b[0m\u001b[0;34m]\u001b[0m\u001b[0;34m\u001b[0m\u001b[0;34m\u001b[0m\u001b[0m\n\u001b[1;32m    171\u001b[0m     \u001b[0;32mfor\u001b[0m \u001b[0mepoch\u001b[0m \u001b[0;32min\u001b[0m \u001b[0mtqdm\u001b[0m\u001b[0;34m(\u001b[0m\u001b[0mrange\u001b[0m\u001b[0;34m(\u001b[0m\u001b[0mepochs\u001b[0m\u001b[0;34m)\u001b[0m\u001b[0;34m)\u001b[0m\u001b[0;34m:\u001b[0m\u001b[0;34m\u001b[0m\u001b[0;34m\u001b[0m\u001b[0m\n\u001b[0;32m--> 172\u001b[0;31m         \u001b[0mepoch_procedure\u001b[0m\u001b[0;34m(\u001b[0m\u001b[0mepoch\u001b[0m\u001b[0;34m,\u001b[0m \u001b[0mcombined\u001b[0m\u001b[0;34m,\u001b[0m \u001b[0mdataset\u001b[0m\u001b[0;34m,\u001b[0m \u001b[0mdis\u001b[0m\u001b[0;34m,\u001b[0m \u001b[0mgen\u001b[0m\u001b[0;34m,\u001b[0m \u001b[0mmin_acc\u001b[0m\u001b[0;34m,\u001b[0m \u001b[0msave_interval\u001b[0m\u001b[0;34m,\u001b[0m \u001b[0msave_path\u001b[0m\u001b[0;34m)\u001b[0m\u001b[0;34m\u001b[0m\u001b[0;34m\u001b[0m\u001b[0m\n\u001b[0m\u001b[1;32m    173\u001b[0m \u001b[0;34m\u001b[0m\u001b[0m\n\u001b[1;32m    174\u001b[0m \u001b[0;34m\u001b[0m\u001b[0m\n",
            "\u001b[0;32m<ipython-input-7-fc881e15d9e1>\u001b[0m in \u001b[0;36mepoch_procedure\u001b[0;34m(c_epoch, combined, dataset, dis, gen, min_acc, save_interval, folder)\u001b[0m\n\u001b[1;32m    151\u001b[0m         \u001b[0mtrainset\u001b[0m \u001b[0;34m=\u001b[0m \u001b[0mdataset\u001b[0m\u001b[0;34m[\u001b[0m\u001b[0mrand\u001b[0m\u001b[0;34m]\u001b[0m\u001b[0;34m\u001b[0m\u001b[0;34m\u001b[0m\u001b[0m\n\u001b[1;32m    152\u001b[0m         \u001b[0mnoise\u001b[0m \u001b[0;34m=\u001b[0m \u001b[0mnp\u001b[0m\u001b[0;34m.\u001b[0m\u001b[0mrandom\u001b[0m\u001b[0;34m.\u001b[0m\u001b[0mnormal\u001b[0m\u001b[0;34m(\u001b[0m\u001b[0;36m0\u001b[0m\u001b[0;34m,\u001b[0m \u001b[0;36m1\u001b[0m\u001b[0;34m,\u001b[0m \u001b[0;34m(\u001b[0m\u001b[0mbatch_size\u001b[0m \u001b[0;34m//\u001b[0m \u001b[0;36m2\u001b[0m\u001b[0;34m,\u001b[0m \u001b[0;36m100\u001b[0m\u001b[0;34m)\u001b[0m\u001b[0;34m)\u001b[0m\u001b[0;34m\u001b[0m\u001b[0;34m\u001b[0m\u001b[0m\n\u001b[0;32m--> 153\u001b[0;31m         \u001b[0mgenerated\u001b[0m \u001b[0;34m=\u001b[0m \u001b[0mgen\u001b[0m\u001b[0;34m.\u001b[0m\u001b[0mpredict\u001b[0m\u001b[0;34m(\u001b[0m\u001b[0mnoise\u001b[0m\u001b[0;34m)\u001b[0m\u001b[0;34m\u001b[0m\u001b[0;34m\u001b[0m\u001b[0m\n\u001b[0m\u001b[1;32m    154\u001b[0m         \u001b[0md_loss_real\u001b[0m \u001b[0;34m=\u001b[0m \u001b[0mdis\u001b[0m\u001b[0;34m.\u001b[0m\u001b[0mtrain_on_batch\u001b[0m\u001b[0;34m(\u001b[0m\u001b[0mtrainset\u001b[0m\u001b[0;34m,\u001b[0m \u001b[0mnp\u001b[0m\u001b[0;34m.\u001b[0m\u001b[0mones\u001b[0m\u001b[0;34m(\u001b[0m\u001b[0;34m(\u001b[0m\u001b[0mbatch_size\u001b[0m \u001b[0;34m//\u001b[0m \u001b[0;36m2\u001b[0m\u001b[0;34m,\u001b[0m \u001b[0;36m1\u001b[0m\u001b[0;34m)\u001b[0m\u001b[0;34m)\u001b[0m\u001b[0;34m)\u001b[0m\u001b[0;34m\u001b[0m\u001b[0;34m\u001b[0m\u001b[0m\n\u001b[1;32m    155\u001b[0m         \u001b[0md_loss_fake\u001b[0m \u001b[0;34m=\u001b[0m \u001b[0mdis\u001b[0m\u001b[0;34m.\u001b[0m\u001b[0mtrain_on_batch\u001b[0m\u001b[0;34m(\u001b[0m\u001b[0mgenerated\u001b[0m\u001b[0;34m,\u001b[0m \u001b[0mnp\u001b[0m\u001b[0;34m.\u001b[0m\u001b[0mzeros\u001b[0m\u001b[0;34m(\u001b[0m\u001b[0;34m(\u001b[0m\u001b[0mbatch_size\u001b[0m \u001b[0;34m//\u001b[0m \u001b[0;36m2\u001b[0m\u001b[0;34m,\u001b[0m \u001b[0;36m1\u001b[0m\u001b[0;34m)\u001b[0m\u001b[0;34m)\u001b[0m\u001b[0;34m)\u001b[0m\u001b[0;34m\u001b[0m\u001b[0;34m\u001b[0m\u001b[0m\n",
            "\u001b[0;32m/usr/local/lib/python3.7/dist-packages/keras/utils/traceback_utils.py\u001b[0m in \u001b[0;36merror_handler\u001b[0;34m(*args, **kwargs)\u001b[0m\n\u001b[1;32m     62\u001b[0m     \u001b[0mfiltered_tb\u001b[0m \u001b[0;34m=\u001b[0m \u001b[0;32mNone\u001b[0m\u001b[0;34m\u001b[0m\u001b[0;34m\u001b[0m\u001b[0m\n\u001b[1;32m     63\u001b[0m     \u001b[0;32mtry\u001b[0m\u001b[0;34m:\u001b[0m\u001b[0;34m\u001b[0m\u001b[0;34m\u001b[0m\u001b[0m\n\u001b[0;32m---> 64\u001b[0;31m       \u001b[0;32mreturn\u001b[0m \u001b[0mfn\u001b[0m\u001b[0;34m(\u001b[0m\u001b[0;34m*\u001b[0m\u001b[0margs\u001b[0m\u001b[0;34m,\u001b[0m \u001b[0;34m**\u001b[0m\u001b[0mkwargs\u001b[0m\u001b[0;34m)\u001b[0m\u001b[0;34m\u001b[0m\u001b[0;34m\u001b[0m\u001b[0m\n\u001b[0m\u001b[1;32m     65\u001b[0m     \u001b[0;32mexcept\u001b[0m \u001b[0mException\u001b[0m \u001b[0;32mas\u001b[0m \u001b[0me\u001b[0m\u001b[0;34m:\u001b[0m  \u001b[0;31m# pylint: disable=broad-except\u001b[0m\u001b[0;34m\u001b[0m\u001b[0;34m\u001b[0m\u001b[0m\n\u001b[1;32m     66\u001b[0m       \u001b[0mfiltered_tb\u001b[0m \u001b[0;34m=\u001b[0m \u001b[0m_process_traceback_frames\u001b[0m\u001b[0;34m(\u001b[0m\u001b[0me\u001b[0m\u001b[0;34m.\u001b[0m\u001b[0m__traceback__\u001b[0m\u001b[0;34m)\u001b[0m\u001b[0;34m\u001b[0m\u001b[0;34m\u001b[0m\u001b[0m\n",
            "\u001b[0;32m/usr/local/lib/python3.7/dist-packages/keras/engine/training.py\u001b[0m in \u001b[0;36mpredict\u001b[0;34m(self, x, batch_size, verbose, steps, callbacks, max_queue_size, workers, use_multiprocessing)\u001b[0m\n\u001b[1;32m   1817\u001b[0m       \u001b[0mself\u001b[0m\u001b[0;34m.\u001b[0m\u001b[0m_distribution_strategy\u001b[0m \u001b[0;34m=\u001b[0m \u001b[0moriginal_pss_strategy\u001b[0m\u001b[0;34m\u001b[0m\u001b[0;34m\u001b[0m\u001b[0m\n\u001b[1;32m   1818\u001b[0m \u001b[0;34m\u001b[0m\u001b[0m\n\u001b[0;32m-> 1819\u001b[0;31m     \u001b[0;32mreturn\u001b[0m \u001b[0mtf_utils\u001b[0m\u001b[0;34m.\u001b[0m\u001b[0msync_to_numpy_or_python_type\u001b[0m\u001b[0;34m(\u001b[0m\u001b[0mall_outputs\u001b[0m\u001b[0;34m)\u001b[0m\u001b[0;34m\u001b[0m\u001b[0;34m\u001b[0m\u001b[0m\n\u001b[0m\u001b[1;32m   1820\u001b[0m \u001b[0;34m\u001b[0m\u001b[0m\n\u001b[1;32m   1821\u001b[0m   \u001b[0;32mdef\u001b[0m \u001b[0mreset_metrics\u001b[0m\u001b[0;34m(\u001b[0m\u001b[0mself\u001b[0m\u001b[0;34m)\u001b[0m\u001b[0;34m:\u001b[0m\u001b[0;34m\u001b[0m\u001b[0;34m\u001b[0m\u001b[0m\n",
            "\u001b[0;32m/usr/local/lib/python3.7/dist-packages/keras/utils/tf_utils.py\u001b[0m in \u001b[0;36msync_to_numpy_or_python_type\u001b[0;34m(tensors)\u001b[0m\n\u001b[1;32m    552\u001b[0m     \u001b[0;32mreturn\u001b[0m \u001b[0mt\u001b[0m  \u001b[0;31m# Don't turn ragged or sparse tensors to NumPy.\u001b[0m\u001b[0;34m\u001b[0m\u001b[0;34m\u001b[0m\u001b[0m\n\u001b[1;32m    553\u001b[0m \u001b[0;34m\u001b[0m\u001b[0m\n\u001b[0;32m--> 554\u001b[0;31m   \u001b[0;32mreturn\u001b[0m \u001b[0mtf\u001b[0m\u001b[0;34m.\u001b[0m\u001b[0mnest\u001b[0m\u001b[0;34m.\u001b[0m\u001b[0mmap_structure\u001b[0m\u001b[0;34m(\u001b[0m\u001b[0m_to_single_numpy_or_python_type\u001b[0m\u001b[0;34m,\u001b[0m \u001b[0mtensors\u001b[0m\u001b[0;34m)\u001b[0m\u001b[0;34m\u001b[0m\u001b[0;34m\u001b[0m\u001b[0m\n\u001b[0m\u001b[1;32m    555\u001b[0m \u001b[0;34m\u001b[0m\u001b[0m\n\u001b[1;32m    556\u001b[0m \u001b[0;34m\u001b[0m\u001b[0m\n",
            "\u001b[0;32m/usr/local/lib/python3.7/dist-packages/tensorflow/python/util/nest.py\u001b[0m in \u001b[0;36mmap_structure\u001b[0;34m(func, *structure, **kwargs)\u001b[0m\n\u001b[1;32m    867\u001b[0m \u001b[0;34m\u001b[0m\u001b[0m\n\u001b[1;32m    868\u001b[0m   return pack_sequence_as(\n\u001b[0;32m--> 869\u001b[0;31m       \u001b[0mstructure\u001b[0m\u001b[0;34m[\u001b[0m\u001b[0;36m0\u001b[0m\u001b[0;34m]\u001b[0m\u001b[0;34m,\u001b[0m \u001b[0;34m[\u001b[0m\u001b[0mfunc\u001b[0m\u001b[0;34m(\u001b[0m\u001b[0;34m*\u001b[0m\u001b[0mx\u001b[0m\u001b[0;34m)\u001b[0m \u001b[0;32mfor\u001b[0m \u001b[0mx\u001b[0m \u001b[0;32min\u001b[0m \u001b[0mentries\u001b[0m\u001b[0;34m]\u001b[0m\u001b[0;34m,\u001b[0m\u001b[0;34m\u001b[0m\u001b[0;34m\u001b[0m\u001b[0m\n\u001b[0m\u001b[1;32m    870\u001b[0m       expand_composites=expand_composites)\n\u001b[1;32m    871\u001b[0m \u001b[0;34m\u001b[0m\u001b[0m\n",
            "\u001b[0;32m/usr/local/lib/python3.7/dist-packages/tensorflow/python/util/nest.py\u001b[0m in \u001b[0;36m<listcomp>\u001b[0;34m(.0)\u001b[0m\n\u001b[1;32m    867\u001b[0m \u001b[0;34m\u001b[0m\u001b[0m\n\u001b[1;32m    868\u001b[0m   return pack_sequence_as(\n\u001b[0;32m--> 869\u001b[0;31m       \u001b[0mstructure\u001b[0m\u001b[0;34m[\u001b[0m\u001b[0;36m0\u001b[0m\u001b[0;34m]\u001b[0m\u001b[0;34m,\u001b[0m \u001b[0;34m[\u001b[0m\u001b[0mfunc\u001b[0m\u001b[0;34m(\u001b[0m\u001b[0;34m*\u001b[0m\u001b[0mx\u001b[0m\u001b[0;34m)\u001b[0m \u001b[0;32mfor\u001b[0m \u001b[0mx\u001b[0m \u001b[0;32min\u001b[0m \u001b[0mentries\u001b[0m\u001b[0;34m]\u001b[0m\u001b[0;34m,\u001b[0m\u001b[0;34m\u001b[0m\u001b[0;34m\u001b[0m\u001b[0m\n\u001b[0m\u001b[1;32m    870\u001b[0m       expand_composites=expand_composites)\n\u001b[1;32m    871\u001b[0m \u001b[0;34m\u001b[0m\u001b[0m\n",
            "\u001b[0;32m/usr/local/lib/python3.7/dist-packages/keras/utils/tf_utils.py\u001b[0m in \u001b[0;36m_to_single_numpy_or_python_type\u001b[0;34m(t)\u001b[0m\n\u001b[1;32m    548\u001b[0m   \u001b[0;32mdef\u001b[0m \u001b[0m_to_single_numpy_or_python_type\u001b[0m\u001b[0;34m(\u001b[0m\u001b[0mt\u001b[0m\u001b[0;34m)\u001b[0m\u001b[0;34m:\u001b[0m\u001b[0;34m\u001b[0m\u001b[0;34m\u001b[0m\u001b[0m\n\u001b[1;32m    549\u001b[0m     \u001b[0;32mif\u001b[0m \u001b[0misinstance\u001b[0m\u001b[0;34m(\u001b[0m\u001b[0mt\u001b[0m\u001b[0;34m,\u001b[0m \u001b[0mtf\u001b[0m\u001b[0;34m.\u001b[0m\u001b[0mTensor\u001b[0m\u001b[0;34m)\u001b[0m\u001b[0;34m:\u001b[0m\u001b[0;34m\u001b[0m\u001b[0;34m\u001b[0m\u001b[0m\n\u001b[0;32m--> 550\u001b[0;31m       \u001b[0mx\u001b[0m \u001b[0;34m=\u001b[0m \u001b[0mt\u001b[0m\u001b[0;34m.\u001b[0m\u001b[0mnumpy\u001b[0m\u001b[0;34m(\u001b[0m\u001b[0;34m)\u001b[0m\u001b[0;34m\u001b[0m\u001b[0;34m\u001b[0m\u001b[0m\n\u001b[0m\u001b[1;32m    551\u001b[0m       \u001b[0;32mreturn\u001b[0m \u001b[0mx\u001b[0m\u001b[0;34m.\u001b[0m\u001b[0mitem\u001b[0m\u001b[0;34m(\u001b[0m\u001b[0;34m)\u001b[0m \u001b[0;32mif\u001b[0m \u001b[0mnp\u001b[0m\u001b[0;34m.\u001b[0m\u001b[0mndim\u001b[0m\u001b[0;34m(\u001b[0m\u001b[0mx\u001b[0m\u001b[0;34m)\u001b[0m \u001b[0;34m==\u001b[0m \u001b[0;36m0\u001b[0m \u001b[0;32melse\u001b[0m \u001b[0mx\u001b[0m\u001b[0;34m\u001b[0m\u001b[0;34m\u001b[0m\u001b[0m\n\u001b[1;32m    552\u001b[0m     \u001b[0;32mreturn\u001b[0m \u001b[0mt\u001b[0m  \u001b[0;31m# Don't turn ragged or sparse tensors to NumPy.\u001b[0m\u001b[0;34m\u001b[0m\u001b[0;34m\u001b[0m\u001b[0m\n",
            "\u001b[0;32m/usr/local/lib/python3.7/dist-packages/tensorflow/python/framework/ops.py\u001b[0m in \u001b[0;36mnumpy\u001b[0;34m(self)\u001b[0m\n\u001b[1;32m   1147\u001b[0m     \"\"\"\n\u001b[1;32m   1148\u001b[0m     \u001b[0;31m# TODO(slebedev): Consider avoiding a copy for non-CPU or remote tensors.\u001b[0m\u001b[0;34m\u001b[0m\u001b[0;34m\u001b[0m\u001b[0;34m\u001b[0m\u001b[0m\n\u001b[0;32m-> 1149\u001b[0;31m     \u001b[0mmaybe_arr\u001b[0m \u001b[0;34m=\u001b[0m \u001b[0mself\u001b[0m\u001b[0;34m.\u001b[0m\u001b[0m_numpy\u001b[0m\u001b[0;34m(\u001b[0m\u001b[0;34m)\u001b[0m  \u001b[0;31m# pylint: disable=protected-access\u001b[0m\u001b[0;34m\u001b[0m\u001b[0;34m\u001b[0m\u001b[0m\n\u001b[0m\u001b[1;32m   1150\u001b[0m     \u001b[0;32mreturn\u001b[0m \u001b[0mmaybe_arr\u001b[0m\u001b[0;34m.\u001b[0m\u001b[0mcopy\u001b[0m\u001b[0;34m(\u001b[0m\u001b[0;34m)\u001b[0m \u001b[0;32mif\u001b[0m \u001b[0misinstance\u001b[0m\u001b[0;34m(\u001b[0m\u001b[0mmaybe_arr\u001b[0m\u001b[0;34m,\u001b[0m \u001b[0mnp\u001b[0m\u001b[0;34m.\u001b[0m\u001b[0mndarray\u001b[0m\u001b[0;34m)\u001b[0m \u001b[0;32melse\u001b[0m \u001b[0mmaybe_arr\u001b[0m\u001b[0;34m\u001b[0m\u001b[0;34m\u001b[0m\u001b[0m\n\u001b[1;32m   1151\u001b[0m \u001b[0;34m\u001b[0m\u001b[0m\n",
            "\u001b[0;32m/usr/local/lib/python3.7/dist-packages/tensorflow/python/framework/ops.py\u001b[0m in \u001b[0;36m_numpy\u001b[0;34m(self)\u001b[0m\n\u001b[1;32m   1113\u001b[0m   \u001b[0;32mdef\u001b[0m \u001b[0m_numpy\u001b[0m\u001b[0;34m(\u001b[0m\u001b[0mself\u001b[0m\u001b[0;34m)\u001b[0m\u001b[0;34m:\u001b[0m\u001b[0;34m\u001b[0m\u001b[0;34m\u001b[0m\u001b[0m\n\u001b[1;32m   1114\u001b[0m     \u001b[0;32mtry\u001b[0m\u001b[0;34m:\u001b[0m\u001b[0;34m\u001b[0m\u001b[0;34m\u001b[0m\u001b[0m\n\u001b[0;32m-> 1115\u001b[0;31m       \u001b[0;32mreturn\u001b[0m \u001b[0mself\u001b[0m\u001b[0;34m.\u001b[0m\u001b[0m_numpy_internal\u001b[0m\u001b[0;34m(\u001b[0m\u001b[0;34m)\u001b[0m\u001b[0;34m\u001b[0m\u001b[0;34m\u001b[0m\u001b[0m\n\u001b[0m\u001b[1;32m   1116\u001b[0m     \u001b[0;32mexcept\u001b[0m \u001b[0mcore\u001b[0m\u001b[0;34m.\u001b[0m\u001b[0m_NotOkStatusException\u001b[0m \u001b[0;32mas\u001b[0m \u001b[0me\u001b[0m\u001b[0;34m:\u001b[0m  \u001b[0;31m# pylint: disable=protected-access\u001b[0m\u001b[0;34m\u001b[0m\u001b[0;34m\u001b[0m\u001b[0m\n\u001b[1;32m   1117\u001b[0m       \u001b[0;32mraise\u001b[0m \u001b[0mcore\u001b[0m\u001b[0;34m.\u001b[0m\u001b[0m_status_to_exception\u001b[0m\u001b[0;34m(\u001b[0m\u001b[0me\u001b[0m\u001b[0;34m)\u001b[0m \u001b[0;32mfrom\u001b[0m \u001b[0;32mNone\u001b[0m  \u001b[0;31m# pylint: disable=protected-access\u001b[0m\u001b[0;34m\u001b[0m\u001b[0;34m\u001b[0m\u001b[0m\n",
            "\u001b[0;31mKeyboardInterrupt\u001b[0m: "
          ]
        }
      ]
    },
    {
      "cell_type": "code",
      "source": [
        "folder = \"cl_accuracy_0.85/\"\n",
        "cl(epochs=20000, save_interval=50, dataset=D1, min_acc=.85, save_path=SAVE_PATH+folder)"
      ],
      "metadata": {
        "id": "t8RHM60WmGIB"
      },
      "execution_count": null,
      "outputs": []
    },
    {
      "cell_type": "code",
      "source": [
        "folder = \"cl_accuracy_0.9/\"\n",
        "cl(epochs=20000, save_interval=50, dataset=D1, min_acc=.9, save_path=SAVE_PATH+folder)"
      ],
      "metadata": {
        "id": "48z7ij_AmGOU"
      },
      "execution_count": null,
      "outputs": []
    },
    {
      "cell_type": "code",
      "source": [
        "folder = \"cl_accuracy_0.95/\"\n",
        "cl(epochs=20000, save_interval=50, dataset=D1, min_acc=.95, save_path=SAVE_PATH+folder)"
      ],
      "metadata": {
        "id": "LBboAZEumGWi"
      },
      "execution_count": null,
      "outputs": []
    },
    {
      "cell_type": "markdown",
      "source": [
        "Experiments: Federated Learning, varying number of epochs per cycle [50 to 200]"
      ],
      "metadata": {
        "id": "XX8Vxwxop2WF"
      }
    },
    {
      "cell_type": "code",
      "source": [
        "folder = \"fl_I_epc50/\"\n",
        "fl(cycles=400,epochs_per_cycle=50,save_interval=50*23,dataset=I,min_acc=0.9,save_path=SAVE_PATH+folder)"
      ],
      "metadata": {
        "id": "kjzBoDfbicr7"
      },
      "execution_count": null,
      "outputs": []
    },
    {
      "cell_type": "code",
      "source": [
        "folder = \"fl_I_epc100/\"\n",
        "fl(cycles=100,epochs_per_cycle=100,save_interval=100*23,dataset=I,min_acc=0.9,save_path=SAVE_PATH+folder)"
      ],
      "metadata": {
        "id": "nTRUaf3kmWor"
      },
      "execution_count": null,
      "outputs": []
    },
    {
      "cell_type": "code",
      "source": [
        "folder = \"fl_I_epc200/\"\n",
        "fl(cycles=50,epochs_per_cycle=200,save_interval=200*23,dataset=I,min_acc=0.9,save_path=SAVE_PATH+folder)"
      ],
      "metadata": {
        "id": "9cqkPCZcmWtk"
      },
      "execution_count": null,
      "outputs": []
    },
    {
      "cell_type": "markdown",
      "source": [
        "Experiments: Federated Learning, varying institutions (combining)"
      ],
      "metadata": {
        "id": "SXs73_qOqAsV"
      }
    },
    {
      "cell_type": "code",
      "source": [
        "folder = \"fl_J/\"\n",
        "fl(cycles=200,epochs_per_cycle=50,save_interval=50*12,dataset=J,min_acc=0.9,save_path=SAVE_PATH+folder)"
      ],
      "metadata": {
        "id": "g6CquEtklzJx"
      },
      "execution_count": null,
      "outputs": []
    },
    {
      "cell_type": "code",
      "source": [
        "folder = \"fl_K/\"\n",
        "with tf.device('/device:GPU:0'):\n",
        "    fl(cycles=200,epochs_per_cycle=50,save_interval=50*4,dataset=K,min_acc=0.9,save_path=SAVE_PATH+folder)"
      ],
      "metadata": {
        "colab": {
          "base_uri": "https://localhost:8080/",
          "height": 1000
        },
        "id": "yHlM8p-rlzMu",
        "outputId": "64a6d1aa-93dc-4edb-858d-199af82dd2c8"
      },
      "execution_count": null,
      "outputs": [
        {
          "metadata": {
            "tags": null
          },
          "name": "stdout",
          "output_type": "stream",
          "text": [
            "0\n",
            "1\n",
            "2\n",
            "3\n",
            "Cycle 1\n"
          ]
        },
        {
          "metadata": {
            "tags": null
          },
          "name": "stderr",
          "output_type": "stream",
          "text": [
            " 75%|███████▌  | 3/4 [30:27<13:14, 794.92s/it]"
          ]
        },
        {
          "metadata": {
            "tags": null
          },
          "name": "stdout",
          "output_type": "stream",
          "text": [
            "Saving...\n",
            "WARNING:tensorflow:Compiled the loaded model, but the compiled metrics have yet to be built. `model.compile_metrics` will be empty until you train or evaluate the model.\n",
            "1\n"
          ]
        },
        {
          "data": {
            "image/png": "[encoded data removed]",
            "text/plain": [
              "<PIL.Image.Image image mode=RGB size=128x128 at 0x7FBA77ECA1D0>"
            ]
          },
          "metadata": {},
          "output_type": "display_data"
        },
        {
          "metadata": {
            "tags": null
          },
          "name": "stderr",
          "output_type": "stream",
          "text": [
            "100%|██████████| 4/4 [33:27<00:00, 501.86s/it]\n"
          ]
        },
        {
          "metadata": {
            "tags": null
          },
          "name": "stdout",
          "output_type": "stream",
          "text": [
            "Cycle 2\n"
          ]
        },
        {
          "metadata": {
            "tags": null
          },
          "name": "stderr",
          "output_type": "stream",
          "text": [
            " 75%|███████▌  | 3/4 [01:41<00:32, 32.49s/it]"
          ]
        },
        {
          "metadata": {
            "tags": null
          },
          "name": "stdout",
          "output_type": "stream",
          "text": [
            "Saving...\n",
            "WARNING:tensorflow:Compiled the loaded model, but the compiled metrics have yet to be built. `model.compile_metrics` will be empty until you train or evaluate the model.\n",
            "1\n"
          ]
        },
        {
          "data": {
            "image/png": "[encoded data removed]",
            "text/plain": [
              "<PIL.Image.Image image mode=RGB size=128x128 at 0x7FBA79D3AE90>"
            ]
          },
          "metadata": {},
          "output_type": "display_data"
        },
        {
          "metadata": {
            "tags": null
          },
          "name": "stderr",
          "output_type": "stream",
          "text": [
            "100%|██████████| 4/4 [02:12<00:00, 33.19s/it]\n"
          ]
        },
        {
          "metadata": {
            "tags": null
          },
          "name": "stdout",
          "output_type": "stream",
          "text": [
            "Cycle 3\n"
          ]
        },
        {
          "metadata": {
            "tags": null
          },
          "name": "stderr",
          "output_type": "stream",
          "text": [
            " 75%|███████▌  | 3/4 [00:30<00:10, 10.33s/it]"
          ]
        },
        {
          "metadata": {
            "tags": null
          },
          "name": "stdout",
          "output_type": "stream",
          "text": [
            "Saving...\n",
            "WARNING:tensorflow:Compiled the loaded model, but the compiled metrics have yet to be built. `model.compile_metrics` will be empty until you train or evaluate the model.\n",
            "1\n"
          ]
        },
        {
          "data": {
            "image/png": "[encoded data removed]",
            "text/plain": [
              "<PIL.Image.Image image mode=RGB size=128x128 at 0x7FB9920D5C50>"
            ]
          },
          "metadata": {},
          "output_type": "display_data"
        },
        {
          "metadata": {
            "tags": null
          },
          "name": "stderr",
          "output_type": "stream",
          "text": [
            "100%|██████████| 4/4 [00:40<00:00, 10.16s/it]\n"
          ]
        },
        {
          "metadata": {
            "tags": null
          },
          "name": "stdout",
          "output_type": "stream",
          "text": [
            "Cycle 4\n"
          ]
        },
        {
          "metadata": {
            "tags": null
          },
          "name": "stderr",
          "output_type": "stream",
          "text": [
            " 75%|███████▌  | 3/4 [00:25<00:08,  8.53s/it]"
          ]
        },
        {
          "metadata": {
            "tags": null
          },
          "name": "stdout",
          "output_type": "stream",
          "text": [
            "Saving...\n",
            "WARNING:tensorflow:Compiled the loaded model, but the compiled metrics have yet to be built. `model.compile_metrics` will be empty until you train or evaluate the model.\n",
            "1\n"
          ]
        },
        {
          "data": {
            "image/png": "[encoded data removed]",
            "text/plain": [
              "<PIL.Image.Image image mode=RGB size=128x128 at 0x7FBA0C476910>"
            ]
          },
          "metadata": {},
          "output_type": "display_data"
        },
        {
          "metadata": {
            "tags": null
          },
          "name": "stderr",
          "output_type": "stream",
          "text": [
            "100%|██████████| 4/4 [00:33<00:00,  8.44s/it]\n"
          ]
        },
        {
          "metadata": {
            "tags": null
          },
          "name": "stdout",
          "output_type": "stream",
          "text": [
            "Cycle 5\n"
          ]
        },
        {
          "metadata": {
            "tags": null
          },
          "name": "stderr",
          "output_type": "stream",
          "text": [
            " 75%|███████▌  | 3/4 [00:24<00:08,  8.26s/it]"
          ]
        },
        {
          "metadata": {
            "tags": null
          },
          "name": "stdout",
          "output_type": "stream",
          "text": [
            "Saving...\n",
            "WARNING:tensorflow:Compiled the loaded model, but the compiled metrics have yet to be built. `model.compile_metrics` will be empty until you train or evaluate the model.\n",
            "1\n"
          ]
        },
        {
          "data": {
            "image/png": "[encoded data removed]",
            "text/plain": [
              "<PIL.Image.Image image mode=RGB size=128x128 at 0x7FB9920E1710>"
            ]
          },
          "metadata": {},
          "output_type": "display_data"
        },
        {
          "metadata": {
            "tags": null
          },
          "name": "stderr",
          "output_type": "stream",
          "text": [
            "100%|██████████| 4/4 [00:32<00:00,  8.20s/it]\n"
          ]
        },
        {
          "metadata": {
            "tags": null
          },
          "name": "stdout",
          "output_type": "stream",
          "text": [
            "Cycle 6\n"
          ]
        },
        {
          "metadata": {
            "tags": null
          },
          "name": "stderr",
          "output_type": "stream",
          "text": [
            " 75%|███████▌  | 3/4 [00:27<00:09,  9.15s/it]"
          ]
        },
        {
          "metadata": {
            "tags": null
          },
          "name": "stdout",
          "output_type": "stream",
          "text": [
            "Saving...\n",
            "WARNING:tensorflow:Compiled the loaded model, but the compiled metrics have yet to be built. `model.compile_metrics` will be empty until you train or evaluate the model.\n",
            "1\n"
          ]
        },
        {
          "data": {
            "image/png": "[encoded data removed]",
            "text/plain": [
              "<PIL.Image.Image image mode=RGB size=128x128 at 0x7FBA7709C0D0>"
            ]
          },
          "metadata": {},
          "output_type": "display_data"
        },
        {
          "metadata": {
            "tags": null
          },
          "name": "stderr",
          "output_type": "stream",
          "text": [
            "100%|██████████| 4/4 [00:39<00:00,  9.84s/it]\n"
          ]
        },
        {
          "metadata": {
            "tags": null
          },
          "name": "stdout",
          "output_type": "stream",
          "text": [
            "Cycle 7\n"
          ]
        },
        {
          "metadata": {
            "tags": null
          },
          "name": "stderr",
          "output_type": "stream",
          "text": [
            " 75%|███████▌  | 3/4 [01:14<00:24, 24.31s/it]"
          ]
        },
        {
          "metadata": {
            "tags": null
          },
          "name": "stdout",
          "output_type": "stream",
          "text": [
            "Saving...\n",
            "WARNING:tensorflow:Compiled the loaded model, but the compiled metrics have yet to be built. `model.compile_metrics` will be empty until you train or evaluate the model.\n",
            "1\n"
          ]
        },
        {
          "data": {
            "image/png": "[encoded data removed]",
            "text/plain": [
              "<PIL.Image.Image image mode=RGB size=128x128 at 0x7FBA0C7BCA90>"
            ]
          },
          "metadata": {},
          "output_type": "display_data"
        },
        {
          "metadata": {
            "tags": null
          },
          "name": "stderr",
          "output_type": "stream",
          "text": [
            "100%|██████████| 4/4 [01:37<00:00, 24.38s/it]\n"
          ]
        },
        {
          "metadata": {
            "tags": null
          },
          "name": "stdout",
          "output_type": "stream",
          "text": [
            "Cycle 8\n"
          ]
        },
        {
          "metadata": {
            "tags": null
          },
          "name": "stderr",
          "output_type": "stream",
          "text": [
            " 75%|███████▌  | 3/4 [02:53<00:57, 57.67s/it]"
          ]
        },
        {
          "metadata": {
            "tags": null
          },
          "name": "stdout",
          "output_type": "stream",
          "text": [
            "Saving...\n",
            "WARNING:tensorflow:Compiled the loaded model, but the compiled metrics have yet to be built. `model.compile_metrics` will be empty until you train or evaluate the model.\n",
            "1\n"
          ]
        },
        {
          "data": {
            "image/png": "[encoded data removed]",
            "text/plain": [
              "<PIL.Image.Image image mode=RGB size=128x128 at 0x7FB992FB5450>"
            ]
          },
          "metadata": {},
          "output_type": "display_data"
        },
        {
          "metadata": {
            "tags": null
          },
          "name": "stderr",
          "output_type": "stream",
          "text": [
            "100%|██████████| 4/4 [03:37<00:00, 54.40s/it]\n"
          ]
        },
        {
          "metadata": {
            "tags": null
          },
          "name": "stdout",
          "output_type": "stream",
          "text": [
            "Cycle 9\n"
          ]
        },
        {
          "metadata": {
            "tags": null
          },
          "name": "stderr",
          "output_type": "stream",
          "text": [
            " 75%|███████▌  | 3/4 [03:37<01:13, 73.53s/it]"
          ]
        },
        {
          "metadata": {
            "tags": null
          },
          "name": "stdout",
          "output_type": "stream",
          "text": [
            "Saving...\n",
            "WARNING:tensorflow:Compiled the loaded model, but the compiled metrics have yet to be built. `model.compile_metrics` will be empty until you train or evaluate the model.\n",
            "1\n"
          ]
        },
        {
          "data": {
            "image/png": "[encoded data removed]",
            "text/plain": [
              "<PIL.Image.Image image mode=RGB size=128x128 at 0x7FBA0C4D6190>"
            ]
          },
          "metadata": {},
          "output_type": "display_data"
        },
        {
          "metadata": {
            "tags": null
          },
          "name": "stderr",
          "output_type": "stream",
          "text": [
            "100%|██████████| 4/4 [05:01<00:00, 75.39s/it]\n"
          ]
        },
        {
          "metadata": {
            "tags": null
          },
          "name": "stdout",
          "output_type": "stream",
          "text": [
            "Cycle 10\n"
          ]
        },
        {
          "metadata": {
            "tags": null
          },
          "name": "stderr",
          "output_type": "stream",
          "text": [
            " 75%|███████▌  | 3/4 [04:42<01:33, 93.32s/it]"
          ]
        },
        {
          "metadata": {
            "tags": null
          },
          "name": "stdout",
          "output_type": "stream",
          "text": [
            "Saving...\n",
            "WARNING:tensorflow:Compiled the loaded model, but the compiled metrics have yet to be built. `model.compile_metrics` will be empty until you train or evaluate the model.\n",
            "1\n"
          ]
        },
        {
          "data": {
            "image/png": "[encoded data removed]",
            "text/plain": [
              "<PIL.Image.Image image mode=RGB size=128x128 at 0x7FBA79E93910>"
            ]
          },
          "metadata": {},
          "output_type": "display_data"
        },
        {
          "metadata": {
            "tags": null
          },
          "name": "stderr",
          "output_type": "stream",
          "text": [
            "100%|██████████| 4/4 [06:14<00:00, 93.67s/it]\n"
          ]
        },
        {
          "metadata": {
            "tags": null
          },
          "name": "stdout",
          "output_type": "stream",
          "text": [
            "Cycle 11\n"
          ]
        },
        {
          "metadata": {
            "tags": null
          },
          "name": "stderr",
          "output_type": "stream",
          "text": [
            " 75%|███████▌  | 3/4 [02:05<00:42, 42.33s/it]"
          ]
        },
        {
          "output_type": "stream",
          "name": "stdout",
          "text": [
            "Saving...\n",
            "WARNING:tensorflow:Compiled the loaded model, but the compiled metrics have yet to be built. `model.compile_metrics` will be empty until you train or evaluate the model.\n",
            "1\n"
          ]
        },
        {
          "output_type": "display_data",
          "data": {
            "image/png": "[encoded data removed]",
            "text/plain": [
              "<PIL.Image.Image image mode=RGB size=128x128 at 0x7FBA79959410>"
            ]
          },
          "metadata": {}
        },
        {
          "output_type": "stream",
          "name": "stderr",
          "text": [
            "100%|██████████| 4/4 [03:03<00:00, 45.82s/it]\n"
          ]
        },
        {
          "output_type": "stream",
          "name": "stdout",
          "text": [
            "Cycle 12\n"
          ]
        },
        {
          "output_type": "stream",
          "name": "stderr",
          "text": [
            " 75%|███████▌  | 3/4 [03:02<00:59, 59.86s/it]"
          ]
        },
        {
          "output_type": "stream",
          "name": "stdout",
          "text": [
            "Saving...\n",
            "WARNING:tensorflow:Compiled the loaded model, but the compiled metrics have yet to be built. `model.compile_metrics` will be empty until you train or evaluate the model.\n",
            "1\n"
          ]
        },
        {
          "output_type": "display_data",
          "data": {
            "image/png": "[encoded data removed]",
            "text/plain": [
              "<PIL.Image.Image image mode=RGB size=128x128 at 0x7FBA77EEF350>"
            ]
          },
          "metadata": {}
        },
        {
          "output_type": "stream",
          "name": "stderr",
          "text": [
            "100%|██████████| 4/4 [03:52<00:00, 58.11s/it]\n"
          ]
        },
        {
          "output_type": "stream",
          "name": "stdout",
          "text": [
            "Cycle 13\n"
          ]
        },
        {
          "output_type": "stream",
          "name": "stderr",
          "text": [
            " 75%|███████▌  | 3/4 [04:33<01:28, 88.06s/it]"
          ]
        }
      ]
    },
    {
      "cell_type": "markdown",
      "source": [
        "Experiments: Cyclic Institutional Incremental Learning, varying number of epochs per cycle [50 to 200]"
      ],
      "metadata": {
        "id": "pJZffCKwqIq3"
      }
    },
    {
      "cell_type": "code",
      "source": [
        "folder = \"ciil_I_epc50/\"\n",
        "ciil(cycles=400, epochs_per_cycle=50, save_interval=50*23, dataset=I, min_acc=0.9, save_path=SAVE_PATH+folder)"
      ],
      "metadata": {
        "id": "_fvcZXudlzS4"
      },
      "execution_count": null,
      "outputs": []
    },
    {
      "cell_type": "code",
      "source": [
        "folder = \"ciil_I_epc100/\"\n",
        "ciil(cycles=100, epochs_per_cycle=100, save_interval=100*23, dataset=I, min_acc=0.9, save_path=SAVE_PATH+folder)"
      ],
      "metadata": {
        "id": "ZhlyJdbylzV8"
      },
      "execution_count": null,
      "outputs": []
    },
    {
      "cell_type": "code",
      "source": [
        "folder = \"ciil_I_epc200/\"\n",
        "ciil(cycles=50, epochs_per_cycle=200, save_interval=200*23, dataset=I, min_acc=0.9, save_path=SAVE_PATH+folder)"
      ],
      "metadata": {
        "id": "AtltuvlHlzYM"
      },
      "execution_count": null,
      "outputs": []
    },
    {
      "cell_type": "markdown",
      "source": [
        "Experiments: Cyclic Institutional Incremental Learning, varying institutions (combining)"
      ],
      "metadata": {
        "id": "R6mPPbURqNPe"
      }
    },
    {
      "cell_type": "code",
      "source": [
        "folder = \"ciil_J/\"\n",
        "ciil(cycles=200, epochs_per_cycle=50, save_interval=50*12, dataset=J, min_acc=0.9, save_path=SAVE_PATH+folder)"
      ],
      "metadata": {
        "id": "sLlzJ8UVlzbr"
      },
      "execution_count": null,
      "outputs": []
    },
    {
      "cell_type": "code",
      "source": [
        "folder = \"ciil_K/\"\n",
        "ciil(cycles=200, epochs_per_cycle=50, save_interval=50*4, dataset=k, min_acc=0.9, save_path=SAVE_PATH+folder)"
      ],
      "metadata": {
        "id": "wYz9XhY9lzea"
      },
      "execution_count": null,
      "outputs": []
    },
    {
      "cell_type": "markdown",
      "source": [
        "# **Evaluation**"
      ],
      "metadata": {
        "id": "r641hzUFoASS"
      }
    },
    {
      "cell_type": "markdown",
      "source": [
        "Essential functions for NNC scoring."
      ],
      "metadata": {
        "id": "qgfgxPmRpktI"
      }
    },
    {
      "cell_type": "code",
      "source": [
        "from sklearn.neighbors import KNeighborsClassifier\n",
        "from sklearn.model_selection import train_test_split\n",
        "from sklearn.preprocessing import StandardScaler\n",
        "import numpy as np\n",
        "\n",
        "\n",
        "def compute_1NNCScore(model, dataset, n):\n",
        "    avg = 0\n",
        "    size = 500\n",
        "    sample = generate(model, size * n)\n",
        "    for j in range(n):\n",
        "        rand = np.random.randint(0, dataset.shape[0], size)\n",
        "        d1 = dataset[rand]\n",
        "        avg += nn(sample[[j * size + k for k in range(size)]], d1)\n",
        "    return avg / n\n",
        "\n",
        "\n",
        "def nn(synthetic, dataset):\n",
        "    X = np.zeros((len(synthetic) + len(dataset), 32 * 32))\n",
        "    y = np.ones((len(synthetic) + len(dataset),))\n",
        "    for i in range(len(synthetic)):\n",
        "        X[i] = synthetic[i].flatten()\n",
        "        X[i + len(synthetic)] = dataset[i].flatten()\n",
        "        y[i] = 0\n",
        "    X_train, X_test, y_train, y_test = train_test_split(X, y, test_size=0.2)\n",
        "    scaler = StandardScaler()\n",
        "    scaler.fit(X_train)\n",
        "    X_train = scaler.transform(X_train)\n",
        "    X_test = scaler.transform(X_test)\n",
        "    model = KNeighborsClassifier(n_neighbors=1)\n",
        "    model.fit(X_train, y_train)\n",
        "    acc = model.score(X_test, y_test)\n",
        "    return acc\n",
        "\n",
        "\n",
        "def normalise_to_r1NNC(y):\n",
        "    return -abs(2*y-1)+1"
      ],
      "metadata": {
        "id": "sxuN2FchhtEE"
      },
      "execution_count": 11,
      "outputs": []
    },
    {
      "cell_type": "markdown",
      "source": [
        "Compute score for any given generator model."
      ],
      "metadata": {
        "id": "5YpX55qapdXK"
      }
    },
    {
      "cell_type": "code",
      "source": [
        "model_ref = SAVE_PATH+\"cl_accuracy_0.8/\"+\"350.h5\"\n",
        "with tf.device('/device:GPU:0'):\n",
        "    model = tf.keras.models.load_model(model_ref)\n",
        "    r1NNC = normalise_to_r1NNC(compute_1NNCScore(model=model,dataset=D1,n=int(len(D1)*0.003)))\n",
        "print(r1NNC)"
      ],
      "metadata": {
        "colab": {
          "base_uri": "https://localhost:8080/"
        },
        "id": "3RLJ-J30o5-_",
        "outputId": "cfd4a7a4-c117-42c3-ad9f-ab20904fce55"
      },
      "execution_count": 17,
      "outputs": [
        {
          "output_type": "stream",
          "name": "stdout",
          "text": [
            "WARNING:tensorflow:No training configuration found in the save file, so the model was *not* compiled. Compile it manually.\n",
            "0.24810191082802846\n"
          ]
        }
      ]
    }
  ]
}